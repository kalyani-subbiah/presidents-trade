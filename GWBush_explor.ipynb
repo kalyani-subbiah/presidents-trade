{
 "cells": [
  {
   "cell_type": "code",
   "execution_count": 40,
   "metadata": {},
   "outputs": [],
   "source": [
    "import nltk\n",
    "import numpy as np\n",
    "import pandas as pd\n",
    "from os import path\n",
    "from PIL import Image\n",
    "from wordcloud import WordCloud, STOPWORDS, ImageColorGenerator\n",
    "import matplotlib.pyplot as plt\n",
    "import json"
   ]
  },
  {
   "cell_type": "code",
   "execution_count": 41,
   "metadata": {},
   "outputs": [],
   "source": [
    "from jsonmerge import merge\n",
    "file0 = \"/Users/kalyani/01ColumbiaQMSS/RA_Carnegie/APP/gwbush_files/gwbush0.json\"\n",
    "\n",
    "with open(file0) as f:\n",
    "    data0 = json.loads(f.read())\n",
    "result = data0\n",
    "\n",
    "for c in range(0, 45):\n",
    "    filen = \"/Users/kalyani/01ColumbiaQMSS/RA_Carnegie/APP/gwbush_files/gwbush\" + str(c) + \".json\"\n",
    "    with open(filen) as f:\n",
    "        datan = json.loads(f.read())\n",
    "    result = merge(result, datan)"
   ]
  },
  {
   "cell_type": "code",
   "execution_count": 42,
   "metadata": {},
   "outputs": [],
   "source": [
    "with open(\"/Users/kalyani/01ColumbiaQMSS/RA_Carnegie/APP/gwbush_files/gwbush_master.json\", \"w\") as outfile: \n",
    "    json.dump(result, outfile)"
   ]
  },
  {
   "cell_type": "code",
   "execution_count": 43,
   "metadata": {},
   "outputs": [],
   "source": [
    "file = \"/Users/kalyani/01ColumbiaQMSS/RA_Carnegie/APP/gwbush_files/gwbush_master.json\"\n",
    "with open(file) as f:\n",
    "    data_t = json.loads(f.read())\n"
   ]
  },
  {
   "cell_type": "code",
   "execution_count": 44,
   "metadata": {},
   "outputs": [
    {
     "data": {
      "text/plain": [
       "4447"
      ]
     },
     "execution_count": 44,
     "metadata": {},
     "output_type": "execute_result"
    }
   ],
   "source": [
    "len(data_t)"
   ]
  },
  {
   "cell_type": "code",
   "execution_count": 45,
   "metadata": {},
   "outputs": [],
   "source": [
    "## Dict to store stats on speeches referencing different countries and trade \n",
    "\n",
    "\n",
    "\"\"\"\n",
    "    Function that returns nested dict that stores stats on the number of times the words trade, China, Canada, Mexico, \n",
    "    Japan, Germany, NAFTA are mentioned.\n",
    "    Stats on the number of times trade and China, trade and Japan, trade and Canada, trade and Mexico, trade and \n",
    "    Japan, trade and Germany are mentioned together \n",
    "    Function stores mentions keyed by speech number, president and categories\n",
    "    \n",
    "    Args: \n",
    "    Nested dict of speeches\n",
    "    \n",
    "    Returns:\n",
    "    Nested dict of stats\n",
    "\"\"\"\n",
    "dict1 = {}\n",
    "total = []\n",
    "trade = []\n",
    "china = []\n",
    "japan = []\n",
    "mexico = []\n",
    "canada = []\n",
    "germany = []\n",
    "korea = []\n",
    "NAFTA = []\n",
    "trade_china = []\n",
    "trade_japan = []\n",
    "trade_mexico = []\n",
    "trade_canada = []\n",
    "trade_germany = []\n",
    "    \n",
    "for x in data_t:\n",
    "    if 'Press Releases' not in data_t[x][\"category\"]:\n",
    "        total.append(data_t[x]['text'])\n",
    "        if 'trade' in data_t[x]['text']:\n",
    "            trade.append([data_t[x]['text']])\n",
    "        dict1['trade'] = len(trade)\n",
    "        if 'Canada' in data_t[x]['text']:\n",
    "            canada.append([data_t[x]['text']])\n",
    "        dict1['canada'] = len(canada)\n",
    "        if 'China' in data_t[x]['text']:\n",
    "            china.append([data_t[x]['text']])\n",
    "        dict1['china'] = len(china)\n",
    "        if 'Mexico' in data_t[x]['text']:\n",
    "            mexico.append([data_t[x]['text']])\n",
    "        dict1['mexico'] = len(mexico)\n",
    "        if 'Japan' in data_t[x]['text']:\n",
    "            japan.append([data_t[x]['text']])\n",
    "        dict1['japan'] = len(japan)\n",
    "        if 'Germany' in data_t[x]['text']:\n",
    "            germany.append([data_t[x]['text']])\n",
    "        dict1['germany'] = len(germany)\n",
    "        if 'South Korea' in data_t[x]['text']:\n",
    "            korea.append([data_t[x]['text']])\n",
    "        dict1['korea'] = len(korea)\n",
    "        if 'NAFTA' in data_t[x]['text']:\n",
    "            NAFTA.append([data_t[x]['text']])\n",
    "        dict1['NAFTA'] = len(NAFTA)\n",
    "        if 'trade' in data_t[x]['text'] and 'China' in data_t[x]['text']:\n",
    "            trade_china.append([data_t[x]['text']])\n",
    "        dict1['trade_china'] = len(trade_china)\n",
    "        if 'trade' in data_t[x]['text'] and 'Mexico' in data_t[x]['text']:\n",
    "            trade_mexico.append([data_t[x]['text']])\n",
    "        dict1['trade_mexico'] = len(trade_mexico) \n",
    "        if 'trade' in data_t[x]['text'] and 'Canada' in data_t[x]['text']:\n",
    "            trade_canada.append([data_t[x]['text']])\n",
    "        dict1['trade_canada'] = len(trade_canada)\n",
    "        if 'trade' in data_t[x]['text'] and 'Japan' in data_t[x]['text']:\n",
    "            trade_japan.append([data_t[x]['text']])\n",
    "        dict1['trade_japan'] = len(trade_japan)\n",
    "        if 'trade' in data_t[x]['text'] and 'Germany' in data_t[x]['text']:\n",
    "            trade_germany.append([data_t[x]['text']])\n",
    "        dict1['trade_germany'] = len(trade_germany)\n",
    "        if 'trade' in data_t[x]['text'] and 'Japan' in data_t[x]['text']:\n",
    "            trade_japan.append([data_t[x]['text']])\n",
    "        dict1['trade_japan'] = len(trade_japan)\n",
    "        if 'trade' in data_t[x]['text'] and 'Canada' in data_t[x]['text']:\n",
    "            trade_canada.append([data_t[x]['text']])\n",
    "        dict1['trade_canada'] = len(trade_canada)\n",
    "dict1['total'] = len(total)\n",
    "    "
   ]
  },
  {
   "cell_type": "code",
   "execution_count": 46,
   "metadata": {},
   "outputs": [
    {
     "data": {
      "text/plain": [
       "{'trade': 1051,\n",
       " 'canada': 192,\n",
       " 'china': 490,\n",
       " 'mexico': 330,\n",
       " 'japan': 491,\n",
       " 'germany': 261,\n",
       " 'korea': 207,\n",
       " 'NAFTA': 84,\n",
       " 'trade_china': 266,\n",
       " 'trade_mexico': 185,\n",
       " 'trade_canada': 234,\n",
       " 'trade_japan': 430,\n",
       " 'trade_germany': 107,\n",
       " 'total': 4447}"
      ]
     },
     "execution_count": 46,
     "metadata": {},
     "output_type": "execute_result"
    }
   ],
   "source": [
    "dict1"
   ]
  },
  {
   "cell_type": "code",
   "execution_count": 47,
   "metadata": {
    "scrolled": true
   },
   "outputs": [],
   "source": [
    "list_prop = [t/4447 for t in dict1.values()]\n",
    "list_prop = list_prop[:-1]\n",
    "list_keys = list(dict1.keys())[:-1]\n",
    "\n",
    "\n"
   ]
  },
  {
   "cell_type": "code",
   "execution_count": 48,
   "metadata": {},
   "outputs": [],
   "source": [
    "list_prop = [x*100 for x in list_prop]\n"
   ]
  },
  {
   "cell_type": "code",
   "execution_count": 49,
   "metadata": {
    "scrolled": true
   },
   "outputs": [
    {
     "data": {
      "text/html": [
       "<div>\n",
       "<style scoped>\n",
       "    .dataframe tbody tr th:only-of-type {\n",
       "        vertical-align: middle;\n",
       "    }\n",
       "\n",
       "    .dataframe tbody tr th {\n",
       "        vertical-align: top;\n",
       "    }\n",
       "\n",
       "    .dataframe thead th {\n",
       "        text-align: right;\n",
       "    }\n",
       "</style>\n",
       "<table border=\"1\" class=\"dataframe\">\n",
       "  <thead>\n",
       "    <tr style=\"text-align: right;\">\n",
       "      <th></th>\n",
       "      <th>Word</th>\n",
       "      <th>Percentage</th>\n",
       "    </tr>\n",
       "  </thead>\n",
       "  <tbody>\n",
       "    <tr>\n",
       "      <th>0</th>\n",
       "      <td>trade</td>\n",
       "      <td>23.633911</td>\n",
       "    </tr>\n",
       "    <tr>\n",
       "      <th>4</th>\n",
       "      <td>japan</td>\n",
       "      <td>11.041151</td>\n",
       "    </tr>\n",
       "    <tr>\n",
       "      <th>2</th>\n",
       "      <td>china</td>\n",
       "      <td>11.018664</td>\n",
       "    </tr>\n",
       "    <tr>\n",
       "      <th>11</th>\n",
       "      <td>trade_japan</td>\n",
       "      <td>9.669440</td>\n",
       "    </tr>\n",
       "    <tr>\n",
       "      <th>3</th>\n",
       "      <td>mexico</td>\n",
       "      <td>7.420733</td>\n",
       "    </tr>\n",
       "    <tr>\n",
       "      <th>8</th>\n",
       "      <td>trade_china</td>\n",
       "      <td>5.981561</td>\n",
       "    </tr>\n",
       "    <tr>\n",
       "      <th>5</th>\n",
       "      <td>germany</td>\n",
       "      <td>5.869125</td>\n",
       "    </tr>\n",
       "    <tr>\n",
       "      <th>10</th>\n",
       "      <td>trade_canada</td>\n",
       "      <td>5.261974</td>\n",
       "    </tr>\n",
       "    <tr>\n",
       "      <th>6</th>\n",
       "      <td>korea</td>\n",
       "      <td>4.654823</td>\n",
       "    </tr>\n",
       "    <tr>\n",
       "      <th>1</th>\n",
       "      <td>canada</td>\n",
       "      <td>4.317517</td>\n",
       "    </tr>\n",
       "    <tr>\n",
       "      <th>9</th>\n",
       "      <td>trade_mexico</td>\n",
       "      <td>4.160108</td>\n",
       "    </tr>\n",
       "    <tr>\n",
       "      <th>12</th>\n",
       "      <td>trade_germany</td>\n",
       "      <td>2.406116</td>\n",
       "    </tr>\n",
       "    <tr>\n",
       "      <th>7</th>\n",
       "      <td>NAFTA</td>\n",
       "      <td>1.888914</td>\n",
       "    </tr>\n",
       "  </tbody>\n",
       "</table>\n",
       "</div>"
      ],
      "text/plain": [
       "             Word  Percentage\n",
       "0           trade   23.633911\n",
       "4           japan   11.041151\n",
       "2           china   11.018664\n",
       "11    trade_japan    9.669440\n",
       "3          mexico    7.420733\n",
       "8     trade_china    5.981561\n",
       "5         germany    5.869125\n",
       "10   trade_canada    5.261974\n",
       "6           korea    4.654823\n",
       "1          canada    4.317517\n",
       "9    trade_mexico    4.160108\n",
       "12  trade_germany    2.406116\n",
       "7           NAFTA    1.888914"
      ]
     },
     "execution_count": 49,
     "metadata": {},
     "output_type": "execute_result"
    }
   ],
   "source": [
    "df = pd.DataFrame({'Word' : list_keys, 'Percentage' : list_prop}) \n",
    "df = df.sort_values(\"Percentage\", ascending = False)\n",
    "df.reset_index(drop=True)\n",
    "df"
   ]
  },
  {
   "cell_type": "code",
   "execution_count": 50,
   "metadata": {},
   "outputs": [
    {
     "data": {
      "image/png": "[encoded data removed]",
      "text/plain": [
       "<Figure size 432x288 with 1 Axes>"
      ]
     },
     "metadata": {},
     "output_type": "display_data"
    },
    {
     "data": {
      "text/plain": [
       "<Figure size 21600x14400 with 0 Axes>"
      ]
     },
     "metadata": {},
     "output_type": "display_data"
    }
   ],
   "source": [
    "plt.bar(x = df['Word'], height = df['Percentage'])\n",
    "plt.xticks(rotation = 'vertical')\n",
    "\n",
    "plt.figure( figsize=(300,200) )\n",
    "plt.show()\n"
   ]
  },
  {
   "cell_type": "code",
   "execution_count": 51,
   "metadata": {},
   "outputs": [],
   "source": [
    "## Dict to store stats on campaign speeches referencing different countries and trade \n",
    "\n",
    "\n",
    "\"\"\"\n",
    "Function that returns nested dict that stores stats on the number of times the words trade, China, Canada, Mexico, \n",
    "Japan, Germany, NAFTA are mentioned.\n",
    "Stats on the number of times trade and China, trade and Japan, trade and Canada, trade and Mexico, trade and \n",
    "Japan, trade and Germany are mentioned together \n",
    "Function stores mentions keyed by speech number, president and categories\n",
    "    \n",
    "Args: \n",
    "Nested dict of speeches\n",
    "    \n",
    "Returns:\n",
    "Nested dict of stats\n",
    "\"\"\"\n",
    "cdict1 = {}\n",
    "    \n",
    "campaign = []\n",
    "ctrade = []\n",
    "cchina = []\n",
    "cjapan = []\n",
    "cmexico = []\n",
    "ccanada = []\n",
    "ckorea = []\n",
    "cgermany = []\n",
    "cNAFTA = []\n",
    "ctrade_china = []\n",
    "ctrade_japan = []\n",
    "ctrade_mexico = []\n",
    "ctrade_canada = []\n",
    "ctrade_germany = []\n",
    "    \n",
    "for x in data_t:\n",
    "    if 'Campaign Documents' in data_t[x][\"category\"]:\n",
    "        campaign.append([data_t[x]['text']])\n",
    "        if 'trade' in data_t[x]['text']:\n",
    "            ctrade.append([data_t[x]['text']])\n",
    "        cdict1['trade'] = len(ctrade)\n",
    "        if 'China' in data_t[x]['text']:\n",
    "            cchina.append([data_t[x]['text']])\n",
    "        cdict1['china'] = len(cchina)\n",
    "        if 'Mexico' in data_t[x]['text']:\n",
    "            cmexico.append([data_t[x]['text']])\n",
    "        cdict1['mexico'] = len(cmexico)\n",
    "        if 'Japan' in data_t[x]['text']:\n",
    "            cjapan.append([data_t[x]['text']])\n",
    "        cdict1['japan'] = len(cjapan)\n",
    "        if 'Germany' in data_t[x]['text']:\n",
    "            cgermany.append([data_t[x]['text']])\n",
    "        cdict1['germany'] = len(cgermany)\n",
    "        if 'South Korea' in data_t[x]['text']:\n",
    "            ckorea.append([data_t[x]['text']])\n",
    "        cdict1['korea'] = len(ckorea)\n",
    "        if 'NAFTA' in data_t[x]['text']:\n",
    "            cNAFTA.append([data_t[x]['text']])\n",
    "        cdict1['NAFTA'] = len(cNAFTA)\n",
    "        if 'trade' in data_t[x]['text'] and 'China' in data_t[x]['text']:\n",
    "            ctrade_china.append([data_t[x]['text']])\n",
    "        cdict1['trade_china'] = len(ctrade_china)\n",
    "        if 'trade' in data_t[x]['text'] and 'Mexico' in data_t[x]['text']:\n",
    "            ctrade_mexico.append([data_t[x]['text']])\n",
    "        cdict1['trade_mexico'] = len(ctrade_mexico) \n",
    "        if 'trade' in data_t[x]['text'] and 'Canada' in data_t[x]['text']:\n",
    "            ctrade_canada.append([data_t[x]['text']])\n",
    "        cdict1['trade_canada'] = len(ctrade_canada)\n",
    "        if 'trade' in data_t[x]['text'] and 'Japan' in data_t[x]['text']:\n",
    "            ctrade_japan.append([data_t[x]['text']])\n",
    "        cdict1['trade_japan'] = len(ctrade_japan)\n",
    "        if 'trade' in data_t[x]['text'] and 'germany' in data_t[x]['text']:\n",
    "            ctrade_germany.append([data_t[x]['text']])\n",
    "        cdict1['trade_germany'] = len(ctrade_germany)\n",
    "        if 'trade' in data_t[x]['text'] and 'Japan' in data_t[x]['text']:\n",
    "            ctrade_japan.append([data_t[x]['text']])\n",
    "        cdict1['trade_japan'] = len(ctrade_japan)\n",
    "cdict1['total'] = len(campaign)\n",
    "    "
   ]
  },
  {
   "cell_type": "code",
   "execution_count": 52,
   "metadata": {},
   "outputs": [
    {
     "data": {
      "text/plain": [
       "{'trade': 1,\n",
       " 'china': 0,\n",
       " 'mexico': 0,\n",
       " 'japan': 0,\n",
       " 'germany': 0,\n",
       " 'korea': 0,\n",
       " 'NAFTA': 0,\n",
       " 'trade_china': 0,\n",
       " 'trade_mexico': 0,\n",
       " 'trade_canada': 0,\n",
       " 'trade_japan': 0,\n",
       " 'trade_germany': 0,\n",
       " 'total': 9}"
      ]
     },
     "execution_count": 52,
     "metadata": {},
     "output_type": "execute_result"
    }
   ],
   "source": [
    "cdict1"
   ]
  },
  {
   "cell_type": "code",
   "execution_count": 53,
   "metadata": {},
   "outputs": [],
   "source": [
    "with open(\"/Users/kalyani/01ColumbiaQMSS/RA_Carnegie/APP/gwbush_files/gwbush_textonly.txt\", \"w\") as f:\n",
    "    f.write(\"\")\n",
    "\n",
    "for x in data_t:\n",
    "    if 'Press Releases' not in data_t[x][\"category\"]:\n",
    "        with open(\"/Users/kalyani/01ColumbiaQMSS/RA_Carnegie/APP/gwbush_files/gwbush_text_only.txt\", \"a\") as f: \n",
    "            f.write(data_t[x][\"text\"])\n",
    "            f.write(\"\\n\")\n",
    "        \n",
    "        "
   ]
  },
  {
   "cell_type": "code",
   "execution_count": 76,
   "metadata": {},
   "outputs": [],
   "source": [
    "f=open('/Users/kalyani/01ColumbiaQMSS/RA_Carnegie/APP/gwbush_files/gwbush_text_only.txt','r')\n",
    "raw=f.read()\n",
    "tokens = nltk.word_tokenize(raw)\n",
    "text = nltk.Text(tokens)"
   ]
  },
  {
   "cell_type": "code",
   "execution_count": 77,
   "metadata": {},
   "outputs": [],
   "source": [
    "def Freq_dict_in_sentence(word = \"China\", raw = raw):\n",
    "    \"\"\"\n",
    "    Accepts word. Returns frequency dictionary for sentences in which word occurs.\n",
    "    Arg:\n",
    "    word (string) : word to search for\n",
    "    text (nltk.Text object)\n",
    "    \"\"\"\n",
    "    from nltk.stem import WordNetLemmatizer\n",
    "    from nltk.corpus import stopwords\n",
    "    import re\n",
    "    from nltk import FreqDist\n",
    "    sents = nltk.sent_tokenize(raw)\n",
    "    sents_word = []\n",
    "    for sent in sents:\n",
    "        if word in sent:\n",
    "            sents_word.append(sent)\n",
    "    tokens = nltk.word_tokenize(str(sents_word))\n",
    "    print(\"length of sents \", len(sents_word))\n",
    "    stop_words = set(stopwords.words('english'))\n",
    "    words_china = [w for w in tokens if not w in stop_words] \n",
    "    bad_words = [w for w in words_china if re.search('[@\\`!$%&(),-\\./0123456789_–?\\[\\]\\x27\\’\\:;]', w)]\n",
    "    words_china = [w for w in words_china if w not in bad_words]\n",
    "    lemmatizer = WordNetLemmatizer()\n",
    "    words_chinal = []\n",
    "    for t in words_china:\n",
    "        k = lemmatizer.lemmatize(t)\n",
    "        words_chinal.append(k)\n",
    "    fdist_china = FreqDist(words_chinal)\n",
    "    return fdist_china\n",
    "\n",
    "    \n",
    "    \n",
    "        \n",
    "    "
   ]
  },
  {
   "cell_type": "code",
   "execution_count": 78,
   "metadata": {},
   "outputs": [],
   "source": [
    "def freq_dist_mostcommon(word, number = 5):\n",
    "    fd = Freq_dict_in_sentence(word, raw)\n",
    "    return fd.most_common(number)"
   ]
  },
  {
   "cell_type": "code",
   "execution_count": 79,
   "metadata": {},
   "outputs": [],
   "source": [
    "def fd_plot(word, number):\n",
    "    fd = Freq_dict_in_sentence(word, raw)\n",
    "    fd[word] = 0\n",
    "    fd.plot(number, cumulative = False) \n",
    "    plt.figure( figsize=(500,300) )\n",
    "\n",
    "    "
   ]
  },
  {
   "cell_type": "code",
   "execution_count": null,
   "metadata": {},
   "outputs": [],
   "source": [
    "fd_plot('trade', 50)"
   ]
  },
  {
   "cell_type": "code",
   "execution_count": 80,
   "metadata": {
    "scrolled": true
   },
   "outputs": [
    {
     "name": "stdout",
     "output_type": "stream",
     "text": [
      "length of sents  8044\n"
     ]
    },
    {
     "data": {
      "text/plain": [
       "[('trade', 8630),\n",
       " ('free', 2226),\n",
       " ('I', 1760),\n",
       " ('agreement', 1616),\n",
       " ('people', 958),\n",
       " ('country', 828),\n",
       " ('world', 814),\n",
       " ('good', 668),\n",
       " ('United', 664),\n",
       " ('States', 650),\n",
       " ('open', 612),\n",
       " ('market', 596),\n",
       " ('America', 594),\n",
       " ('nation', 552),\n",
       " ('fair', 522),\n",
       " ('make', 522),\n",
       " ('job', 514),\n",
       " ('work', 504),\n",
       " ('way', 500),\n",
       " ('We', 486),\n",
       " ('new', 476),\n",
       " ('important', 464),\n",
       " ('Congress', 464),\n",
       " ('And', 464),\n",
       " ('help', 458),\n",
       " ('economic', 440),\n",
       " ('policy', 406),\n",
       " ('authority', 398),\n",
       " ('American', 398),\n",
       " ('want', 394),\n",
       " ('economy', 392),\n",
       " ('need', 382),\n",
       " ('promotion', 378),\n",
       " ('also', 376),\n",
       " ('opportunity', 376),\n",
       " ('going', 362),\n",
       " ('President', 348),\n",
       " ('one', 342),\n",
       " ('benefit', 328),\n",
       " ('Colombia', 328),\n",
       " ('got', 324),\n",
       " ('prosperity', 320),\n",
       " ('investment', 310),\n",
       " ('u', 308),\n",
       " ('believe', 302),\n",
       " ('sure', 300),\n",
       " ('issue', 292),\n",
       " ('barrier', 290),\n",
       " ('year', 274),\n",
       " ('would', 266),\n",
       " ('talk', 264),\n",
       " ('know', 260),\n",
       " ('poverty', 256),\n",
       " ('interest', 246),\n",
       " ('come', 242),\n",
       " ('continue', 242),\n",
       " ('time', 240),\n",
       " ('working', 238),\n",
       " ('lot', 226),\n",
       " ('global', 224),\n",
       " ('get', 220),\n",
       " ('bill', 220),\n",
       " ('mean', 218),\n",
       " ('like', 218),\n",
       " ('think', 216),\n",
       " ('must', 212),\n",
       " ('farmer', 212),\n",
       " ('Doha', 212),\n",
       " ('worker', 210),\n",
       " ('best', 208),\n",
       " ('It', 208),\n",
       " ('freedom', 206),\n",
       " ('understand', 204),\n",
       " ('growth', 198),\n",
       " ('round', 194),\n",
       " ('strong', 186),\n",
       " ('Trade', 184),\n",
       " ('hemisphere', 182),\n",
       " ('together', 178),\n",
       " ('relationship', 178),\n",
       " ('well', 176),\n",
       " ('administration', 172),\n",
       " ('around', 170),\n",
       " ('China', 170),\n",
       " ('two', 166),\n",
       " ('region', 164),\n",
       " ('product', 162),\n",
       " ('partner', 158),\n",
       " ('Africa', 156),\n",
       " ('passed', 154),\n",
       " ('promote', 150),\n",
       " ('able', 150),\n",
       " ('say', 148),\n",
       " ('democracy', 148),\n",
       " ('thing', 146),\n",
       " ('commitment', 144),\n",
       " ('see', 144),\n",
       " ('entrepreneur', 144),\n",
       " ('support', 144),\n",
       " ('security', 144)]"
      ]
     },
     "execution_count": 80,
     "metadata": {},
     "output_type": "execute_result"
    }
   ],
   "source": [
    "freq_dist_mostcommon('trade', 100)"
   ]
  },
  {
   "cell_type": "code",
   "execution_count": 81,
   "metadata": {},
   "outputs": [
    {
     "name": "stdout",
     "output_type": "stream",
     "text": [
      "length of sents  3112\n"
     ]
    },
    {
     "data": {
      "text/plain": [
       "[('China', 2912),\n",
       " ('I', 802),\n",
       " ('United', 466),\n",
       " ('States', 428),\n",
       " ('country', 352),\n",
       " ('like', 344),\n",
       " ('India', 332),\n",
       " ('Korea', 324),\n",
       " ('people', 284),\n",
       " ('President', 282),\n",
       " ('Japan', 266),\n",
       " ('Russia', 264),\n",
       " ('relation', 234),\n",
       " ('relationship', 234),\n",
       " ('South', 224),\n",
       " ('way', 224),\n",
       " ('world', 220),\n",
       " ('And', 218),\n",
       " ('trade', 186),\n",
       " ('nation', 182),\n",
       " ('treat', 178),\n",
       " ('u', 174),\n",
       " ('one', 172),\n",
       " ('got', 162),\n",
       " ('good', 162),\n",
       " ('important', 162),\n",
       " ('also', 160),\n",
       " ('would', 150),\n",
       " ('issue', 150),\n",
       " ('going', 146),\n",
       " ('North', 146),\n",
       " ('interest', 142),\n",
       " ('make', 140),\n",
       " ('work', 138),\n",
       " ('economy', 132),\n",
       " ('policy', 130),\n",
       " ('America', 124),\n",
       " ('say', 118),\n",
       " ('think', 118),\n",
       " ('demand', 118),\n",
       " ('economic', 114),\n",
       " ('right', 114),\n",
       " ('freedom', 112),\n",
       " ('time', 112),\n",
       " ('need', 112),\n",
       " ('nuclear', 112),\n",
       " ('Chinese', 110),\n",
       " ('leader', 110),\n",
       " ('We', 110),\n",
       " ('place', 108),\n",
       " ('Taiwan', 108),\n",
       " ('go', 108),\n",
       " ('You', 106),\n",
       " ('new', 104),\n",
       " ('want', 102),\n",
       " ('see', 102),\n",
       " ('international', 100),\n",
       " ('well', 96),\n",
       " ('price', 96),\n",
       " ('oil', 96),\n",
       " ('continue', 94),\n",
       " ('talk', 94),\n",
       " ('know', 92),\n",
       " ('come', 90),\n",
       " ('American', 88),\n",
       " ('forward', 86),\n",
       " ('lot', 86),\n",
       " ('two', 86),\n",
       " ('market', 84),\n",
       " ('great', 82),\n",
       " ('view', 82),\n",
       " ('energy', 80),\n",
       " ('Bush', 78),\n",
       " ('weapon', 78),\n",
       " ('growing', 78),\n",
       " ('part', 76),\n",
       " ('year', 76),\n",
       " ('global', 76),\n",
       " ('saying', 76),\n",
       " ('said', 74),\n",
       " ('agreement', 74),\n",
       " ('change', 72),\n",
       " ('help', 70),\n",
       " ('get', 70),\n",
       " ('Korean', 68),\n",
       " ('mean', 68),\n",
       " ('Asia', 66),\n",
       " ('made', 66),\n",
       " ('I\\\\', 66),\n",
       " ('table', 66),\n",
       " ('believe', 64),\n",
       " ('clear', 64),\n",
       " ('together', 64),\n",
       " ('working', 62),\n",
       " ('It', 62),\n",
       " ('look', 62),\n",
       " ('discussion', 62),\n",
       " ('partner', 60),\n",
       " ('peace', 60),\n",
       " ('human', 58)]"
      ]
     },
     "execution_count": 81,
     "metadata": {},
     "output_type": "execute_result"
    }
   ],
   "source": [
    "freq_dist_mostcommon('China', 100)"
   ]
  },
  {
   "cell_type": "code",
   "execution_count": null,
   "metadata": {},
   "outputs": [],
   "source": [
    "def bigrams_word(word, raw):\n",
    "    words = sents_word(word, raw)\n",
    "    return list(nltk.bigrams(words))"
   ]
  },
  {
   "cell_type": "code",
   "execution_count": null,
   "metadata": {},
   "outputs": [],
   "source": [
    "bigrams_word('trade', raw)"
   ]
  },
  {
   "cell_type": "code",
   "execution_count": null,
   "metadata": {},
   "outputs": [],
   "source": []
  },
  {
   "cell_type": "code",
   "execution_count": null,
   "metadata": {},
   "outputs": [],
   "source": []
  }
 ],
 "metadata": {
  "kernelspec": {
   "display_name": "Python 3",
   "language": "python",
   "name": "python3"
  },
  "language_info": {
   "codemirror_mode": {
    "name": "ipython",
    "version": 3
   },
   "file_extension": ".py",
   "mimetype": "text/x-python",
   "name": "python",
   "nbconvert_exporter": "python",
   "pygments_lexer": "ipython3",
   "version": "3.6.5"
  }
 },
 "nbformat": 4,
 "nbformat_minor": 2
}
