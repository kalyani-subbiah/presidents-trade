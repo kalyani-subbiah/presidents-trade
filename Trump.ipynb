{
 "cells": [
  {
   "cell_type": "code",
   "execution_count": 2,
   "metadata": {},
   "outputs": [],
   "source": [
    "import nltk\n",
    "import numpy as np\n",
    "import pandas as pd\n",
    "from os import path\n",
    "from PIL import Image\n",
    "from wordcloud import WordCloud, STOPWORDS, ImageColorGenerator\n",
    "import matplotlib.pyplot as plt\n",
    "import json"
   ]
  },
  {
   "cell_type": "code",
   "execution_count": 3,
   "metadata": {},
   "outputs": [],
   "source": [
    "file = \"/Users/kalyani/01ColumbiaQMSS/RA_Carnegie/APP/trump_files/trump_allspeeches.json\"\n",
    "with open(file) as f:\n",
    "    data_t = json.loads(f.read())\n"
   ]
  },
  {
   "cell_type": "markdown",
   "metadata": {},
   "source": [
    "## Dict to store stats on speeches referencing different countries and trade \n",
    "    Nested dict that stores stats on the number of times the words trade, China, Canada, Mexico, \n",
    "    Japan, Germany, NAFTA are mentioned.\n",
    "    Stats on the number of times trade and China, trade and Japan, trade and Canada, trade and Mexico, trade and \n",
    "    Japan, trade and Germany are mentioned together \n",
    "    Mentions keyed by speech number, president and categories\n",
    "    \n",
    "    Args: \n",
    "    Nested dict of speeches"
   ]
  },
  {
   "cell_type": "code",
   "execution_count": 4,
   "metadata": {},
   "outputs": [],
   "source": [
    "\n",
    "dict1 = {}\n",
    "total = []\n",
    "trade = []\n",
    "china = []\n",
    "japan = []\n",
    "mexico = []\n",
    "canada = []\n",
    "germany = []\n",
    "korea = []\n",
    "NAFTA = []\n",
    "trade_china = []\n",
    "trade_japan = []\n",
    "trade_mexico = []\n",
    "trade_canada = []\n",
    "trade_germany = []\n",
    "    \n",
    "for x in data_t:\n",
    "    if 'Press Releases' not in data_t[x][\"category\"]:\n",
    "        total.append(data_t[x]['text'])\n",
    "        if 'trade' in data_t[x]['text']:\n",
    "            trade.append([data_t[x]['text']])\n",
    "        dict1['trade'] = len(trade)\n",
    "        if 'Canada' in data_t[x]['text']:\n",
    "            canada.append([data_t[x]['text']])\n",
    "        dict1['canada'] = len(canada)\n",
    "        if 'China' in data_t[x]['text']:\n",
    "            china.append([data_t[x]['text']])\n",
    "        dict1['china'] = len(china)\n",
    "        if 'Mexico' in data_t[x]['text']:\n",
    "            mexico.append([data_t[x]['text']])\n",
    "        dict1['mexico'] = len(mexico)\n",
    "        if 'Japan' in data_t[x]['text']:\n",
    "            japan.append([data_t[x]['text']])\n",
    "        dict1['japan'] = len(japan)\n",
    "        if 'Germany' in data_t[x]['text']:\n",
    "            germany.append([data_t[x]['text']])\n",
    "        dict1['germany'] = len(germany)\n",
    "        if 'South Korea' in data_t[x]['text']:\n",
    "            korea.append([data_t[x]['text']])\n",
    "        dict1['korea'] = len(korea)\n",
    "        if 'NAFTA' in data_t[x]['text']:\n",
    "            NAFTA.append([data_t[x]['text']])\n",
    "        dict1['NAFTA'] = len(NAFTA)\n",
    "        if 'trade' in data_t[x]['text'] and 'China' in data_t[x]['text']:\n",
    "            trade_china.append([data_t[x]['text']])\n",
    "        dict1['trade_china'] = len(trade_china)\n",
    "        if 'trade' in data_t[x]['text'] and 'Mexico' in data_t[x]['text']:\n",
    "            trade_mexico.append([data_t[x]['text']])\n",
    "        dict1['trade_mexico'] = len(trade_mexico) \n",
    "        if 'trade' in data_t[x]['text'] and 'Canada' in data_t[x]['text']:\n",
    "            trade_canada.append([data_t[x]['text']])\n",
    "        dict1['trade_canada'] = len(trade_canada)\n",
    "        if 'trade' in data_t[x]['text'] and 'Japan' in data_t[x]['text']:\n",
    "            trade_japan.append([data_t[x]['text']])\n",
    "        dict1['trade_japan'] = len(trade_japan)\n",
    "        if 'trade' in data_t[x]['text'] and 'Germany' in data_t[x]['text']:\n",
    "            trade_germany.append([data_t[x]['text']])\n",
    "        dict1['trade_germany'] = len(trade_germany)\n",
    "        if 'trade' in data_t[x]['text'] and 'Japan' in data_t[x]['text']:\n",
    "            trade_japan.append([data_t[x]['text']])\n",
    "        dict1['trade_japan'] = len(trade_japan)\n",
    "        if 'trade' in data_t[x]['text'] and 'Canada' in data_t[x]['text']:\n",
    "            trade_canada.append([data_t[x]['text']])\n",
    "        dict1['trade_canada'] = len(trade_canada)\n",
    "dict1['total'] = len(total)\n",
    "    "
   ]
  },
  {
   "cell_type": "code",
   "execution_count": 5,
   "metadata": {
    "scrolled": true
   },
   "outputs": [
    {
     "data": {
      "text/plain": [
       "{'trade': 276,\n",
       " 'canada': 46,\n",
       " 'china': 190,\n",
       " 'mexico': 121,\n",
       " 'japan': 75,\n",
       " 'germany': 30,\n",
       " 'korea': 66,\n",
       " 'NAFTA': 107,\n",
       " 'trade_china': 148,\n",
       " 'trade_mexico': 86,\n",
       " 'trade_canada': 70,\n",
       " 'trade_japan': 114,\n",
       " 'trade_germany': 24,\n",
       " 'total': 795}"
      ]
     },
     "execution_count": 5,
     "metadata": {},
     "output_type": "execute_result"
    }
   ],
   "source": [
    "dict1"
   ]
  },
  {
   "cell_type": "markdown",
   "metadata": {},
   "source": [
    "## Proportion of mentions over total speeches - table and graph"
   ]
  },
  {
   "cell_type": "code",
   "execution_count": 6,
   "metadata": {
    "scrolled": true
   },
   "outputs": [
    {
     "data": {
      "text/html": [
       "<div>\n",
       "<style scoped>\n",
       "    .dataframe tbody tr th:only-of-type {\n",
       "        vertical-align: middle;\n",
       "    }\n",
       "\n",
       "    .dataframe tbody tr th {\n",
       "        vertical-align: top;\n",
       "    }\n",
       "\n",
       "    .dataframe thead th {\n",
       "        text-align: right;\n",
       "    }\n",
       "</style>\n",
       "<table border=\"1\" class=\"dataframe\">\n",
       "  <thead>\n",
       "    <tr style=\"text-align: right;\">\n",
       "      <th></th>\n",
       "      <th>Word</th>\n",
       "      <th>Percentage</th>\n",
       "    </tr>\n",
       "  </thead>\n",
       "  <tbody>\n",
       "    <tr>\n",
       "      <th>0</th>\n",
       "      <td>trade</td>\n",
       "      <td>34.716981</td>\n",
       "    </tr>\n",
       "    <tr>\n",
       "      <th>2</th>\n",
       "      <td>china</td>\n",
       "      <td>23.899371</td>\n",
       "    </tr>\n",
       "    <tr>\n",
       "      <th>8</th>\n",
       "      <td>trade_china</td>\n",
       "      <td>18.616352</td>\n",
       "    </tr>\n",
       "    <tr>\n",
       "      <th>3</th>\n",
       "      <td>mexico</td>\n",
       "      <td>15.220126</td>\n",
       "    </tr>\n",
       "    <tr>\n",
       "      <th>11</th>\n",
       "      <td>trade_japan</td>\n",
       "      <td>14.339623</td>\n",
       "    </tr>\n",
       "    <tr>\n",
       "      <th>7</th>\n",
       "      <td>NAFTA</td>\n",
       "      <td>13.459119</td>\n",
       "    </tr>\n",
       "    <tr>\n",
       "      <th>9</th>\n",
       "      <td>trade_mexico</td>\n",
       "      <td>10.817610</td>\n",
       "    </tr>\n",
       "    <tr>\n",
       "      <th>4</th>\n",
       "      <td>japan</td>\n",
       "      <td>9.433962</td>\n",
       "    </tr>\n",
       "    <tr>\n",
       "      <th>10</th>\n",
       "      <td>trade_canada</td>\n",
       "      <td>8.805031</td>\n",
       "    </tr>\n",
       "    <tr>\n",
       "      <th>6</th>\n",
       "      <td>korea</td>\n",
       "      <td>8.301887</td>\n",
       "    </tr>\n",
       "    <tr>\n",
       "      <th>1</th>\n",
       "      <td>canada</td>\n",
       "      <td>5.786164</td>\n",
       "    </tr>\n",
       "    <tr>\n",
       "      <th>5</th>\n",
       "      <td>germany</td>\n",
       "      <td>3.773585</td>\n",
       "    </tr>\n",
       "    <tr>\n",
       "      <th>12</th>\n",
       "      <td>trade_germany</td>\n",
       "      <td>3.018868</td>\n",
       "    </tr>\n",
       "  </tbody>\n",
       "</table>\n",
       "</div>"
      ],
      "text/plain": [
       "             Word  Percentage\n",
       "0           trade   34.716981\n",
       "2           china   23.899371\n",
       "8     trade_china   18.616352\n",
       "3          mexico   15.220126\n",
       "11    trade_japan   14.339623\n",
       "7           NAFTA   13.459119\n",
       "9    trade_mexico   10.817610\n",
       "4           japan    9.433962\n",
       "10   trade_canada    8.805031\n",
       "6           korea    8.301887\n",
       "1          canada    5.786164\n",
       "5         germany    3.773585\n",
       "12  trade_germany    3.018868"
      ]
     },
     "metadata": {},
     "output_type": "display_data"
    }
   ],
   "source": [
    "list_prop = [t/795 for t in dict1.values()]\n",
    "list_prop = list_prop[:-1]\n",
    "list_keys = list(dict1.keys())[:-1]\n",
    "\n",
    "\n",
    "\n",
    "\n",
    "list_prop = [x*100 for x in list_prop]\n",
    "\n",
    "\n",
    "df = pd.DataFrame({'Word' : list_keys, 'Percentage' : list_prop}) \n",
    "df = df.sort_values(\"Percentage\", ascending = False)\n",
    "display(df)\n",
    "df.to_clipboard()"
   ]
  },
  {
   "cell_type": "code",
   "execution_count": 10,
   "metadata": {
    "scrolled": true
   },
   "outputs": [
    {
     "data": {
      "image/png": "[encoded data removed]",
      "text/plain": [
       "<Figure size 432x288 with 1 Axes>"
      ]
     },
     "metadata": {},
     "output_type": "display_data"
    },
    {
     "data": {
      "text/plain": [
       "<Figure size 21600x14400 with 0 Axes>"
      ]
     },
     "metadata": {},
     "output_type": "display_data"
    }
   ],
   "source": [
    "import seaborn as sns\n",
    "plt.bar(x = df['Word'], height = df['Percentage'], color = 'green')\n",
    "plt.xticks(rotation = 'vertical')\n",
    "\n",
    "plt.figure( figsize=(300,200) )\n",
    "plt.show()\n"
   ]
  },
  {
   "cell_type": "markdown",
   "metadata": {},
   "source": [
    "## Analysis of word frequency in sentences\n",
    "\n",
    "Analysing which words occur most frequently in sentences with 'Trade', 'China' etc."
   ]
  },
  {
   "cell_type": "code",
   "execution_count": 6,
   "metadata": {},
   "outputs": [],
   "source": [
    "with open(\"/Users/kalyani/01ColumbiaQMSS/RA_Carnegie/APP/trump_files/speeches_textonly.txt\", \"w\") as f:\n",
    "    f.write(\"\")\n",
    "\n",
    "for x in data_t:\n",
    "    if 'Press Releases' not in data_t[x][\"category\"]:\n",
    "        with open(\"/Users/kalyani/01ColumbiaQMSS/RA_Carnegie/APP/trump_files/speeches_textonly.txt\", \"a\") as f: \n",
    "            f.write(data_t[x][\"text\"])\n",
    "            f.write(\"\\n\")\n",
    "        "
   ]
  },
  {
   "cell_type": "code",
   "execution_count": 7,
   "metadata": {},
   "outputs": [],
   "source": [
    "f=open('/Users/kalyani/01ColumbiaQMSS/RA_Carnegie/APP/trump_files/trumpspeeches_textonly.txt','r')\n",
    "raw=f.read()\n",
    "tokens = nltk.word_tokenize(raw)\n",
    "text = nltk.Text(tokens)"
   ]
  },
  {
   "cell_type": "code",
   "execution_count": 38,
   "metadata": {},
   "outputs": [],
   "source": [
    "def Freq_dict_in_sentence(word = \"China\", raw = raw):\n",
    "    \"\"\"\n",
    "    Accepts raw text from file. Lemmatizes words, lowercases words, and removes stopwords. \n",
    "    Returns frequency dictionary for sentences in which word occurs.\n",
    "    Arg:\n",
    "    word (string) : word to search for\n",
    "    raw (string) : from file\n",
    "    \n",
    "    Returns:\n",
    "    \n",
    "    \n",
    "    \"\"\"\n",
    "    from nltk.stem import WordNetLemmatizer\n",
    "    from nltk.corpus import stopwords\n",
    "    import re\n",
    "    from nltk import FreqDist\n",
    "    sents = nltk.sent_tokenize(raw)\n",
    "    sents_word = []\n",
    "    for sent in sents:\n",
    "        if word in sent:\n",
    "            sents_word.append(sent)\n",
    "    tokens = nltk.word_tokenize(str(sents_word))\n",
    "    tokens = [t.lower() for t in tokens]\n",
    "    print(\"length of sents \", len(sents_word))\n",
    "    stop_words = set(stopwords.words('english'))\n",
    "    words1 = [w for w in tokens if not w in stop_words] \n",
    "    bad_words = [w for w in words_china if re.search('[@\\`!$%&(),-\\./0123456789_–?\\[\\]\\x27\\’\\:;]', w)]\n",
    "    words1 = [w for w in words_china if w not in bad_words]\n",
    "    lemmatizer = WordNetLemmatizer()\n",
    "    words1_L = []\n",
    "    for t in words1:\n",
    "        k = lemmatizer.lemmatize(t)\n",
    "        words_chinal.append(k)\n",
    "    fdist = FreqDist(words1_L)\n",
    "    return fdist_china\n",
    "\n",
    "    \n",
    "    \n",
    "        \n",
    "    "
   ]
  },
  {
   "cell_type": "markdown",
   "metadata": {},
   "source": [
    "Perform analysis for:\n",
    "1) trade\n",
    "2) China\n",
    "3) Mexico\n",
    "4) Japan\n",
    "5) NAFTA\n",
    "6) South Korea\n",
    "7) Germany\n",
    "8) Canada\n",
    "    "
   ]
  },
  {
   "cell_type": "code",
   "execution_count": 9,
   "metadata": {},
   "outputs": [],
   "source": [
    "def freq_dist_mostcommon(word, number = 5):\n",
    "    fd = Freq_dict_in_sentence(word, raw)\n",
    "    return fd.most_common(number)"
   ]
  },
  {
   "cell_type": "code",
   "execution_count": 14,
   "metadata": {},
   "outputs": [],
   "source": [
    "def fd_plot(word, number):\n",
    "    fd = Freq_dict_in_sentence(word, raw)\n",
    "    fd[word] = 0\n",
    "    fd.plot(number, cumulative = False) \n",
    "    plt.figure( figsize=(500,300) )\n",
    "\n",
    "    "
   ]
  },
  {
   "cell_type": "code",
   "execution_count": 36,
   "metadata": {},
   "outputs": [
    {
     "name": "stdout",
     "output_type": "stream",
     "text": [
      "length of sents  1026\n"
     ]
    },
    {
     "data": {
      "text/plain": [
       "[('trade', 1096),\n",
       " ('deal', 306),\n",
       " ('I', 242),\n",
       " ('going', 175),\n",
       " ('deficit', 155),\n",
       " ('country', 154),\n",
       " ('job', 127),\n",
       " ('American', 97),\n",
       " ('fair', 95),\n",
       " ('billion', 94),\n",
       " ('United', 76),\n",
       " ('States', 76),\n",
       " ('We', 74),\n",
       " ('many', 73),\n",
       " ('China', 69),\n",
       " ('also', 69),\n",
       " ('u', 65),\n",
       " ('year', 64),\n",
       " ('people', 62),\n",
       " ('Korea', 61),\n",
       " ('policy', 60),\n",
       " ('tax', 56),\n",
       " ('President', 56),\n",
       " ('great', 54),\n",
       " ('world', 54),\n",
       " ('worker', 54),\n",
       " ('free', 53),\n",
       " ('economic', 53),\n",
       " ('good', 53),\n",
       " ('want', 51),\n",
       " ('And', 51),\n",
       " ('terrible', 46),\n",
       " ('foreign', 46),\n",
       " ('make', 45),\n",
       " ('America', 45),\n",
       " ('energy', 43),\n",
       " ('agreement', 42),\n",
       " ('thing', 42),\n",
       " ('new', 41),\n",
       " ('Clinton', 41),\n",
       " ('said', 41),\n",
       " ('one', 41),\n",
       " ('reciprocal', 41),\n",
       " ('relationship', 40),\n",
       " ('lot', 39),\n",
       " ('open', 38),\n",
       " ('regulation', 36),\n",
       " ('every', 35),\n",
       " ('NAFTA', 35),\n",
       " ('know', 34),\n",
       " ('made', 34),\n",
       " ('renegotiate', 34),\n",
       " ('North', 34),\n",
       " ('issue', 34),\n",
       " ('important', 34),\n",
       " ('massive', 33),\n",
       " ('immigration', 33),\n",
       " ('Mexico', 31),\n",
       " ('Hillary', 31),\n",
       " ('work', 31),\n",
       " ('investment', 31),\n",
       " ('reform', 30),\n",
       " ('border', 29),\n",
       " ('first', 29),\n",
       " ('right', 29),\n",
       " ('South', 29),\n",
       " ('look', 29),\n",
       " ('way', 28),\n",
       " ('much', 28),\n",
       " ('like', 28),\n",
       " ('business', 27),\n",
       " ('manufacturing', 27),\n",
       " ('unfair', 27),\n",
       " ('think', 27),\n",
       " ('end', 27),\n",
       " ('believe', 26),\n",
       " ('million', 26),\n",
       " ('nation', 26),\n",
       " ('nearly', 26),\n",
       " ('military', 26),\n",
       " ('working', 25),\n",
       " ('take', 24),\n",
       " ('including', 24),\n",
       " ('time', 23),\n",
       " ('benefit', 23),\n",
       " ('worst', 23),\n",
       " ('practice', 23),\n",
       " ('get', 22),\n",
       " ('would', 22),\n",
       " ('plan', 22),\n",
       " ('stop', 22),\n",
       " ('But', 22),\n",
       " ('ever', 21),\n",
       " ('bad', 21),\n",
       " ('cooperation', 21),\n",
       " ('say', 20),\n",
       " ('back', 20),\n",
       " ('put', 20),\n",
       " ('support', 20),\n",
       " ('dollar', 20)]"
      ]
     },
     "execution_count": 36,
     "metadata": {},
     "output_type": "execute_result"
    }
   ],
   "source": [
    "freq_dist_mostcommon(\"trade\", 100)"
   ]
  },
  {
   "cell_type": "code",
   "execution_count": 15,
   "metadata": {},
   "outputs": [
    {
     "name": "stdout",
     "output_type": "stream",
     "text": [
      "length of sents  1026\n"
     ]
    },
    {
     "data": {
      "image/png": "[encoded data removed]",
      "text/plain": [
       "<Figure size 432x288 with 1 Axes>"
      ]
     },
     "metadata": {},
     "output_type": "display_data"
    },
    {
     "data": {
      "text/plain": [
       "<Figure size 36000x21600 with 0 Axes>"
      ]
     },
     "metadata": {},
     "output_type": "display_data"
    }
   ],
   "source": [
    "fd_plot(\"trade\", 50)"
   ]
  },
  {
   "cell_type": "code",
   "execution_count": 39,
   "metadata": {},
   "outputs": [
    {
     "name": "stdout",
     "output_type": "stream",
     "text": [
      "length of sents  720\n"
     ]
    },
    {
     "data": {
      "text/plain": [
       "[('china', 677),\n",
       " ('trade', 133),\n",
       " ('state', 97),\n",
       " ('country', 96),\n",
       " ('president', 85),\n",
       " ('united', 82),\n",
       " ('world', 74),\n",
       " ('korea', 74),\n",
       " ('u', 66),\n",
       " ('russia', 55),\n",
       " ('north', 52),\n",
       " ('going', 52),\n",
       " ('job', 51),\n",
       " ('people', 45),\n",
       " ('organization', 45),\n",
       " ('many', 43),\n",
       " ('like', 41),\n",
       " ('deal', 40),\n",
       " ('think', 40),\n",
       " ('said', 39),\n",
       " ('since', 39),\n",
       " ('relationship', 38),\n",
       " ('great', 36),\n",
       " ('know', 35),\n",
       " ('xi', 35),\n",
       " ('lost', 34),\n",
       " ('south', 33),\n",
       " ('year', 32),\n",
       " ('billion', 31),\n",
       " ('japan', 30),\n",
       " ('nafta', 30),\n",
       " ('relation', 27),\n",
       " ('percent', 27),\n",
       " ('also', 27),\n",
       " ('clinton', 26),\n",
       " ('good', 26),\n",
       " ('time', 25),\n",
       " ('respect', 25),\n",
       " ('factory', 25),\n",
       " ('\\\\nq', 25),\n",
       " ('america', 24),\n",
       " ('look', 24),\n",
       " ('want', 24),\n",
       " ('would', 24),\n",
       " ('even', 23),\n",
       " ('bill', 23),\n",
       " ('say', 22),\n",
       " ('american', 22),\n",
       " ('deficit', 22),\n",
       " ('trump', 22),\n",
       " ('business', 22),\n",
       " ('get', 21),\n",
       " ('mexico', 21),\n",
       " ('really', 21),\n",
       " ('including', 21),\n",
       " ('one', 20),\n",
       " ('come', 19),\n",
       " ('another', 19),\n",
       " ('lot', 19),\n",
       " ('hillary', 18),\n",
       " ('along', 18),\n",
       " ('manufacturing', 18),\n",
       " ('entered', 18),\n",
       " ('last', 17),\n",
       " ('supported', 17),\n",
       " ('chinese', 17),\n",
       " ('currency', 17),\n",
       " ('thing', 17),\n",
       " ('two', 17),\n",
       " ('problem', 16),\n",
       " ('every', 16),\n",
       " ('made', 16),\n",
       " ('help', 16),\n",
       " ('important', 15),\n",
       " ('right', 15),\n",
       " ('foreign', 15),\n",
       " ('coming', 15),\n",
       " ('place', 14),\n",
       " ('love', 14),\n",
       " ('sea', 14),\n",
       " ('believe', 14),\n",
       " ('way', 14),\n",
       " ('well', 14),\n",
       " ('ambassador', 14),\n",
       " ('branstad', 14),\n",
       " ('economic', 13),\n",
       " ('mean', 13),\n",
       " ('stand', 13),\n",
       " ('issue', 13),\n",
       " ('governor', 13),\n",
       " ('meeting', 13),\n",
       " ('big', 12),\n",
       " ('got', 12),\n",
       " ('leader', 12),\n",
       " ('make', 12),\n",
       " ('international', 12),\n",
       " ('cooperation', 12),\n",
       " ('never', 11),\n",
       " ('anything', 11),\n",
       " ('new', 11)]"
      ]
     },
     "execution_count": 39,
     "metadata": {},
     "output_type": "execute_result"
    }
   ],
   "source": [
    "freq_dist_mostcommon(\"China\", 100)"
   ]
  },
  {
   "cell_type": "code",
   "execution_count": null,
   "metadata": {},
   "outputs": [],
   "source": []
  }
 ],
 "metadata": {
  "kernelspec": {
   "display_name": "Python 3",
   "language": "python",
   "name": "python3"
  },
  "language_info": {
   "codemirror_mode": {
    "name": "ipython",
    "version": 3
   },
   "file_extension": ".py",
   "mimetype": "text/x-python",
   "name": "python",
   "nbconvert_exporter": "python",
   "pygments_lexer": "ipython3",
   "version": "3.6.5"
  }
 },
 "nbformat": 4,
 "nbformat_minor": 2
}
